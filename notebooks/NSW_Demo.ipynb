{
 "cells": [
  {
   "cell_type": "markdown",
   "metadata": {},
   "source": [
    "# NSWClassifier"
   ]
  },
  {
   "cell_type": "markdown",
   "metadata": {},
   "source": [
    "## Importing Packages"
   ]
  },
  {
   "cell_type": "code",
   "execution_count": 1,
   "metadata": {
    "ExecuteTime": {
     "end_time": "2021-02-15T11:17:28.972816Z",
     "start_time": "2021-02-15T11:17:27.800002Z"
    }
   },
   "outputs": [],
   "source": [
    "from mlots import NSWClassifier\n",
    "from sklearn.model_selection import GridSearchCV\n",
    "from scipy.io import arff\n",
    "import matplotlib.pyplot as plt\n",
    "import pandas as pd\n",
    "import numpy as np\n",
    "import warnings\n",
    "from sklearn.metrics import accuracy_score\n",
    "warnings.filterwarnings(\"ignore\")\n",
    "import matplotlib\n",
    "%matplotlib inline"
   ]
  },
  {
   "cell_type": "code",
   "execution_count": 2,
   "metadata": {
    "ExecuteTime": {
     "end_time": "2021-02-15T11:17:28.994357Z",
     "start_time": "2021-02-15T11:17:28.991226Z"
    }
   },
   "outputs": [],
   "source": [
    "font = {'size'   : 22}\n",
    "\n",
    "matplotlib.rc('font', **font)"
   ]
  },
  {
   "cell_type": "markdown",
   "metadata": {},
   "source": [
    "## Loading Data"
   ]
  },
  {
   "cell_type": "markdown",
   "metadata": {
    "ExecuteTime": {
     "start_time": "2021-02-12T12:36:12.505Z"
    }
   },
   "source": [
    "Here we are loading the ``SyntheticControl`` dataset.  \n",
    "The datasets are in two ``.arff`` files with pre-defined train and test splits.  \n",
    "The following code reads the two files stores the ``X`` (time-series data) and ``y`` (labels), into their specific train and test sets.\n",
    "***"
   ]
  },
  {
   "cell_type": "code",
   "execution_count": 3,
   "metadata": {
    "ExecuteTime": {
     "end_time": "2021-02-15T11:17:54.457193Z",
     "start_time": "2021-02-15T11:17:54.392354Z"
    }
   },
   "outputs": [
    {
     "data": {
      "text/plain": "((300, 60), (300, 60))"
     },
     "execution_count": 3,
     "metadata": {},
     "output_type": "execute_result"
    }
   ],
   "source": [
    "name = \"SyntheticControl\"\n",
    "\n",
    "dataset = arff.loadarff(f'../input/{name}/{name}_TRAIN.arff'.format(name=name))[0]\n",
    "X_train = np.array(dataset.tolist(), dtype=np.float32)\n",
    "y_train = X_train[: , -1]\n",
    "X_train = X_train[:, :-1]\n",
    "\n",
    "dataset = arff.loadarff(f'../input/{name}/{name}_TEST.arff'.format(name=name))[0]\n",
    "X_test = np.array(dataset.tolist(), dtype=np.float32)\n",
    "y_test = X_test[: , -1]\n",
    "X_test = X_test[:, :-1]\n",
    "\n",
    "#Converting target from bytes to integer\n",
    "y_train = [int.from_bytes(el, \"little\") for el in y_train]\n",
    "y_test = [int.from_bytes(el, \"little\") for el in y_test]\n",
    "X_train.shape, X_test.shape"
   ]
  },
  {
   "cell_type": "markdown",
   "metadata": {},
   "source": [
    "|Set|Sample size|TS length|\n",
    "|:---|:----------|:-------|\n",
    "|Train|300|60|\n",
    "|Test|300|60|"
   ]
  },
  {
   "cell_type": "markdown",
   "metadata": {},
   "source": [
    "## Evaluating NSW"
   ]
  },
  {
   "cell_type": "markdown",
   "metadata": {},
   "source": [
    "### Default parameters"
   ]
  },
  {
   "cell_type": "markdown",
   "metadata": {},
   "source": [
    "We would employ ``NSWClassifier`` model from the ``mlots`` python package.  \n",
    "First, the model is evaluated with default parameters over the ``SyntheticControl`` dataset.\n",
    "***"
   ]
  },
  {
   "cell_type": "code",
   "execution_count": 4,
   "metadata": {
    "ExecuteTime": {
     "end_time": "2021-02-15T11:18:03.064309Z",
     "start_time": "2021-02-15T11:18:02.982630Z"
    }
   },
   "outputs": [
    {
     "name": "stderr",
     "output_type": "stream",
     "text": [
      "100%|██████████| 300/300 [00:00<00:00, 4695.05it/s]\n"
     ]
    },
    {
     "name": "stdout",
     "output_type": "stream",
     "text": [
      "Model is fitted with the provided data.\n"
     ]
    }
   ],
   "source": [
    "model_default = NSWClassifier(random_seed=42).fit(X_train,y_train)"
   ]
  },
  {
   "cell_type": "code",
   "execution_count": 5,
   "metadata": {
    "ExecuteTime": {
     "end_time": "2021-02-15T11:18:03.845263Z",
     "start_time": "2021-02-15T11:18:03.759847Z"
    }
   },
   "outputs": [
    {
     "name": "stderr",
     "output_type": "stream",
     "text": [
      "100%|██████████| 300/300 [00:00<00:00, 4632.56it/s]\n"
     ]
    },
    {
     "name": "stdout",
     "output_type": "stream",
     "text": [
      "Model accuracy with default parameters:  0.18\n"
     ]
    }
   ],
   "source": [
    "y_hat_default = model_default.predict(X_test)\n",
    "acc_default = accuracy_score(y_test, y_hat_default)\n",
    "print(\"Model accuracy with default parameters: \", round(acc_default, 2))"
   ]
  },
  {
   "cell_type": "markdown",
   "metadata": {},
   "source": [
    "The accuracy of the model is **18%**, which is really poor; worse than random\n",
    "guessing. This is due to the default parameters which makes NSW network not enough dense."
   ]
  },
  {
   "cell_type": "markdown",
   "metadata": {},
   "source": [
    "### Model tuning"
   ]
  },
  {
   "cell_type": "markdown",
   "metadata": {},
   "source": [
    "``NSWClassifier`` model allows us to work with a more complex distance measure like ``DTW``.  \n",
    "Here, we would use ``GridSearchCV`` algorithm from the ``sklearn`` package to find the best set of parameters of the model over the dataset.  \n",
    "The model tuning would be done **only** over the ``train`` set of the dataset.\n",
    "***"
   ]
  },
  {
   "cell_type": "code",
   "execution_count": 6,
   "metadata": {
    "ExecuteTime": {
     "end_time": "2021-02-15T11:18:23.245476Z",
     "start_time": "2021-02-15T11:18:23.235164Z"
    }
   },
   "outputs": [
    {
     "data": {
      "text/plain": "[{'global_constraint': 'sakoe_chiba', 'sakoe_chiba_radius': 11},\n {'global_constraint': 'sakoe_chiba', 'sakoe_chiba_radius': 13}]"
     },
     "execution_count": 6,
     "metadata": {},
     "output_type": "execute_result"
    }
   ],
   "source": [
    "#Setting up the warping window grid of the DTW measure\n",
    "\n",
    "dtw_params = []\n",
    "for w_win in range(11,15,2):\n",
    "    dtw_params.append(\n",
    "    {\n",
    "        \"global_constraint\": \"sakoe_chiba\",\n",
    "        \"sakoe_chiba_radius\": w_win\n",
    "    }\n",
    "    )\n",
    "dtw_params"
   ]
  },
  {
   "cell_type": "code",
   "execution_count": 7,
   "metadata": {
    "ExecuteTime": {
     "end_time": "2021-02-15T11:18:37.011925Z",
     "start_time": "2021-02-15T11:18:37.000024Z"
    }
   },
   "outputs": [
    {
     "data": {
      "text/plain": "{'f': [1, 5],\n 'm': array([17, 19]),\n 'k': [1, 3],\n 'metric_params': [{'global_constraint': 'sakoe_chiba',\n   'sakoe_chiba_radius': 11},\n  {'global_constraint': 'sakoe_chiba', 'sakoe_chiba_radius': 13}]}"
     },
     "execution_count": 7,
     "metadata": {},
     "output_type": "execute_result"
    }
   ],
   "source": [
    "#Setting up the param grid for the NSWClassifier model with the DTW params\n",
    "#We would be doing a narrow grid-search for the demo. However, one could widen the parameters for best results.\n",
    "param_grid = {\n",
    "    \"f\": [1,5],\n",
    "    \"m\": np.arange(17,20,2),\n",
    "    \"k\": [1,3],\n",
    "    \"metric_params\" : dtw_params\n",
    "}\n",
    "param_grid"
   ]
  },
  {
   "cell_type": "code",
   "execution_count": 9,
   "metadata": {
    "ExecuteTime": {
     "start_time": "2021-02-15T11:45:18.795Z"
    }
   },
   "outputs": [
    {
     "name": "stderr",
     "output_type": "stream",
     "text": [
      "100%|██████████| 300/300 [00:01<00:00, 188.46it/s]\n"
     ]
    },
    {
     "name": "stdout",
     "output_type": "stream",
     "text": [
      "Model is fitted with the provided data.\n"
     ]
    }
   ],
   "source": [
    "#Executing the GridSearchCV over the NSWClassifier model with the supplied param_grid.\n",
    "\n",
    "model = NSWClassifier(metric=\"dtw\",random_seed=42)\n",
    "gscv = GridSearchCV(model, param_grid=param_grid, cv=5,\n",
    "                    scoring=\"accuracy\", n_jobs=-1).fit(X_train,y_train)"
   ]
  },
  {
   "cell_type": "code",
   "execution_count": 11,
   "metadata": {
    "ExecuteTime": {
     "end_time": "2021-02-15T18:09:46.763234Z",
     "start_time": "2021-02-15T18:09:46.754680Z"
    }
   },
   "outputs": [
    {
     "name": "stdout",
     "output_type": "stream",
     "text": [
      "Best Parameters:  {'f': 1, 'k': 1, 'm': 19, 'metric_params': {'global_constraint': 'sakoe_chiba', 'sakoe_chiba_radius': 13}}\n",
      "Best Accuracy:  0.9499999999999998\n"
     ]
    }
   ],
   "source": [
    "#Displaying the best parameters of NSWClassifier within the search grid.\n",
    "\n",
    "best_param = gscv.best_params_\n",
    "best_score = gscv.best_score_\n",
    "print(\"Best Parameters: \", best_param)\n",
    "print(\"Best Accuracy: \", best_score)"
   ]
  },
  {
   "cell_type": "markdown",
   "metadata": {},
   "source": [
    "### Evaluation of tuned model"
   ]
  },
  {
   "cell_type": "markdown",
   "metadata": {},
   "source": [
    "The parameters displayed above are optimal set of parameters for the ``NSWClassifier`` model over ``SyntheticControl`` dataset.  \n",
    "Our next task is then to train the ``NSWClassifier`` model over the ``train`` set with the optimal set of parameters, and evaluate the model over the held-out ``test`` set.\n",
    "***"
   ]
  },
  {
   "cell_type": "code",
   "execution_count": 12,
   "metadata": {
    "ExecuteTime": {
     "start_time": "2021-02-15T11:46:03.041Z"
    }
   },
   "outputs": [
    {
     "name": "stderr",
     "output_type": "stream",
     "text": [
      "100%|██████████| 300/300 [00:01<00:00, 294.35it/s]\n"
     ]
    },
    {
     "name": "stdout",
     "output_type": "stream",
     "text": [
      "Model is fitted with the provided data.\n"
     ]
    }
   ],
   "source": [
    "model_tuned = NSWClassifier(**best_param,metric=\"dtw\",random_seed=42).fit(X_train,y_train)"
   ]
  },
  {
   "cell_type": "code",
   "execution_count": 13,
   "metadata": {
    "ExecuteTime": {
     "end_time": "2021-02-15T18:10:48.662389Z",
     "start_time": "2021-02-15T18:10:47.469167Z"
    }
   },
   "outputs": [
    {
     "name": "stderr",
     "output_type": "stream",
     "text": [
      "100%|██████████| 300/300 [00:01<00:00, 283.72it/s]\n"
     ]
    },
    {
     "name": "stdout",
     "output_type": "stream",
     "text": [
      "Model accuracy with tuned parameters:  0.89\n"
     ]
    }
   ],
   "source": [
    "y_hat_tuned = model_tuned.predict(X_test)\n",
    "acc_tuned = accuracy_score(y_test, y_hat_tuned)\n",
    "print(\"Model accuracy with tuned parameters: \", round(acc_tuned, 2))"
   ]
  },
  {
   "cell_type": "markdown",
   "source": [
    "By tuning the parameters of the model we increased the accuracy of the model from ~$18\\%$ to $89\\%$."
   ],
   "metadata": {
    "collapsed": false,
    "pycharm": {
     "name": "#%% md\n"
    }
   }
  },
  {
   "cell_type": "markdown",
   "metadata": {
    "pycharm": {
     "name": "#%% md\n"
    }
   },
   "source": [
    "## Comparison"
   ]
  },
  {
   "cell_type": "markdown",
   "metadata": {},
   "source": [
    "Here we do bar-plot that would illustrate the performance of the ``NSWClassifier`` model with **default** parameters against the model with the **tuned** parameters.  \n",
    "The ``matplotlib.pyplot``is employed for this task.\n",
    "***"
   ]
  },
  {
   "cell_type": "code",
   "execution_count": 15,
   "metadata": {
    "ExecuteTime": {
     "end_time": "2021-02-15T18:09:36.548842Z",
     "start_time": "2021-02-15T18:09:36.375778Z"
    },
    "pycharm": {
     "name": "#%%\n"
    }
   },
   "outputs": [
    {
     "data": {
      "text/plain": "<Figure size 864x576 with 1 Axes>",
      "image/png": "[encoded data removed]"
     },
     "metadata": {
      "needs_background": "light"
     },
     "output_type": "display_data"
    }
   ],
   "source": [
    "acc =  [acc_default*100,acc_tuned*100]\n",
    "models = [\"NSWClassifier-Default\", \"NSWClassifier-Tuned\"]\n",
    "\n",
    "df = pd.DataFrame({\"models\": models, \"Accuracy\":acc})\n",
    "\n",
    "fig = plt.figure()\n",
    "ax = df['Accuracy'].plot(kind=\"bar\", figsize=(12, 8), alpha=0.7,\n",
    "                 color=[\n",
    "                     'skyblue'\n",
    "                 ], label = \"Accuracy\")\n",
    "\n",
    "ax.set_xticklabels(df['models'])\n",
    "ax.set_ylabel(\"Accuracy (%)\")\n",
    "\n",
    "ax.set_ylim(0,100)\n",
    "\n",
    "plt.setp(ax.xaxis.get_majorticklabels(), rotation=0)\n",
    "for i,a in enumerate(acc):\n",
    "    ax.text(i,a,str(round(a,3))+\"%\")\n",
    "plt.text\n",
    "plt.title(\"Model Performance\")\n",
    "plt.show()\n",
    "\n"
   ]
  }
 ],
 "metadata": {
  "kernelspec": {
   "display_name": "Python 3",
   "language": "python",
   "name": "python3"
  },
  "language_info": {
   "codemirror_mode": {
    "name": "ipython",
    "version": 3
   },
   "file_extension": ".py",
   "mimetype": "text/x-python",
   "name": "python",
   "nbconvert_exporter": "python",
   "pygments_lexer": "ipython3",
   "version": "3.8.5"
  },
  "toc": {
   "base_numbering": 1,
   "nav_menu": {},
   "number_sections": true,
   "sideBar": true,
   "skip_h1_title": false,
   "title_cell": "Table of Contents",
   "title_sidebar": "Contents",
   "toc_cell": false,
   "toc_position": {},
   "toc_section_display": true,
   "toc_window_display": false
  },
  "varInspector": {
   "cols": {
    "lenName": 16,
    "lenType": 16,
    "lenVar": 40
   },
   "kernels_config": {
    "python": {
     "delete_cmd_postfix": "",
     "delete_cmd_prefix": "del ",
     "library": "var_list.py",
     "varRefreshCmd": "print(var_dic_list())"
    },
    "r": {
     "delete_cmd_postfix": ") ",
     "delete_cmd_prefix": "rm(",
     "library": "var_list.r",
     "varRefreshCmd": "cat(var_dic_list()) "
    }
   },
   "types_to_exclude": [
    "module",
    "function",
    "builtin_function_or_method",
    "instance",
    "_Feature"
   ],
   "window_display": false
  }
 },
 "nbformat": 4,
 "nbformat_minor": 4
}
{
 "cells": [
  {
   "cell_type": "markdown",
   "metadata": {},
   "source": [
    "# MACFAC"
   ]
  },
  {
   "cell_type": "markdown",
   "metadata": {},
   "source": [
    "## Importing Packages"
   ]
  },
  {
   "cell_type": "code",
   "execution_count": 1,
   "metadata": {
    "ExecuteTime": {
     "end_time": "2021-02-16T21:34:41.790373Z",
     "start_time": "2021-02-16T21:34:40.478837Z"
    }
   },
   "outputs": [],
   "source": [
    "from mlots.models import kNNClassifier\n",
    "from sklearn.model_selection import GridSearchCV\n",
    "from scipy.io import arff\n",
    "import matplotlib.pyplot as plt\n",
    "import pandas as pd\n",
    "import numpy as np\n",
    "import warnings\n",
    "from sklearn.metrics import accuracy_score\n",
    "warnings.filterwarnings(\"ignore\")\n",
    "import matplotlib\n",
    "import time\n",
    "%matplotlib inline"
   ]
  },
  {
   "cell_type": "code",
   "execution_count": 2,
   "metadata": {
    "ExecuteTime": {
     "end_time": "2021-02-16T21:34:41.828370Z",
     "start_time": "2021-02-16T21:34:41.826160Z"
    }
   },
   "outputs": [],
   "source": [
    "font = {'size'   : 22}\n",
    "\n",
    "matplotlib.rc('font', **font)"
   ]
  },
  {
   "cell_type": "markdown",
   "metadata": {},
   "source": [
    "## Loading Data"
   ]
  },
  {
   "cell_type": "markdown",
   "metadata": {
    "ExecuteTime": {
     "start_time": "2021-02-12T12:36:12.505Z"
    }
   },
   "source": [
    "Here we are loading the ``PickupGestureWiimoteZ`` dataset.  \n",
    "The datasets are in two ``.arff`` files with pre-defined train and test splits.  \n",
    "The following code reads the two files stores the ``X`` (time-series data) and ``y`` (labels), into their specific train and test sets.\n",
    "***"
   ]
  },
  {
   "cell_type": "code",
   "execution_count": 3,
   "metadata": {
    "ExecuteTime": {
     "end_time": "2021-02-16T21:34:42.646453Z",
     "start_time": "2021-02-16T21:34:42.592462Z"
    }
   },
   "outputs": [
    {
     "data": {
      "text/plain": "((50, 361), (50, 361))"
     },
     "execution_count": 3,
     "metadata": {},
     "output_type": "execute_result"
    }
   ],
   "source": [
    "name = \"PickupGestureWiimoteZ\"\n",
    "\n",
    "dataset = arff.loadarff(f'../input/{name}/{name}_TRAIN.arff'.format(name=name))[0]\n",
    "X_train = np.array(dataset.tolist(), dtype=np.float32)\n",
    "y_train = X_train[: , -1]\n",
    "X_train = X_train[:, :-1]\n",
    "\n",
    "dataset = arff.loadarff(f'../input/{name}/{name}_TEST.arff'.format(name=name))[0]\n",
    "X_test = np.array(dataset.tolist(), dtype=np.float32)\n",
    "y_test = X_test[: , -1]\n",
    "X_test = X_test[:, :-1]\n",
    "\n",
    "#Converting target from bytes to integer\n",
    "y_train = [int.from_bytes(el, \"little\") for el in y_train]\n",
    "y_test = [int.from_bytes(el, \"little\") for el in y_test]\n",
    "\n",
    "#Filling NaN/missing values with 0.0\n",
    "X_train = np.nan_to_num(X_train, 0.0)\n",
    "X_test = np.nan_to_num(X_test, 0.0)\n",
    "\n",
    "X_train.shape, X_test.shape"
   ]
  },
  {
   "cell_type": "markdown",
   "metadata": {},
   "source": [
    "|Set|Sample size|TS length|\n",
    "|:---|:----------|:-------|\n",
    "|Train|50|361|\n",
    "|Test|50|361|"
   ]
  },
  {
   "cell_type": "markdown",
   "metadata": {},
   "source": [
    "## Evaluating kNNClassifier for full-k-NN-DTW"
   ]
  },
  {
   "cell_type": "markdown",
   "metadata": {},
   "source": [
    "### Model tuning"
   ]
  },
  {
   "cell_type": "markdown",
   "metadata": {},
   "source": [
    "``kNNClassifier`` model allows us to work with a more complex distance measure like ``DTW`` in with or without ``MAC/FAC`` strategy.  \n",
    "Here, we would use ``GridSearchCV`` algorithm from the ``sklearn`` package to find the best set of parameters of the model over the dataset.  \n",
    "The model tuning would be done **only** over the ``train`` set of the dataset.\n",
    "***"
   ]
  },
  {
   "cell_type": "code",
   "execution_count": 8,
   "metadata": {
    "ExecuteTime": {
     "end_time": "2021-02-16T21:34:45.484780Z",
     "start_time": "2021-02-16T21:34:45.474099Z"
    }
   },
   "outputs": [
    {
     "data": {
      "text/plain": "[{'global_constraint': 'sakoe_chiba', 'sakoe_chiba_radius': 5},\n {'global_constraint': 'sakoe_chiba', 'sakoe_chiba_radius': 8}]"
     },
     "execution_count": 8,
     "metadata": {},
     "output_type": "execute_result"
    }
   ],
   "source": [
    "#Setting up the warping window grid of the DTW measure\n",
    "\n",
    "dtw_params = []\n",
    "for w_win in range(5,10,3):\n",
    "    dtw_params.append(\n",
    "    {\n",
    "        \"global_constraint\": \"sakoe_chiba\",\n",
    "        \"sakoe_chiba_radius\": w_win\n",
    "    }\n",
    "    )\n",
    "dtw_params"
   ]
  },
  {
   "cell_type": "code",
   "execution_count": 9,
   "metadata": {
    "ExecuteTime": {
     "end_time": "2021-02-16T21:34:48.358554Z",
     "start_time": "2021-02-16T21:34:48.347331Z"
    }
   },
   "outputs": [
    {
     "data": {
      "text/plain": "{'n_neighbors': array([1, 3, 5, 7, 9]),\n 'metric_params': [{'global_constraint': 'sakoe_chiba',\n   'sakoe_chiba_radius': 5},\n  {'global_constraint': 'sakoe_chiba', 'sakoe_chiba_radius': 8}]}"
     },
     "execution_count": 9,
     "metadata": {},
     "output_type": "execute_result"
    }
   ],
   "source": [
    "#Setting up the param grid for the kNNClassifier model with the DTW params\n",
    "\n",
    "param_grid = {\n",
    "    \"n_neighbors\": np.arange(1,10,2),\n",
    "    \"metric_params\" : dtw_params\n",
    "}\n",
    "param_grid"
   ]
  },
  {
   "cell_type": "code",
   "execution_count": null,
   "metadata": {
    "ExecuteTime": {
     "end_time": "2021-02-16T21:35:07.023609Z",
     "start_time": "2021-02-16T21:34:50.352637Z"
    }
   },
   "outputs": [],
   "source": [
    "#Executing the GridSearchCv over the kNNClassifier model with the supplied param_grid.\n",
    "\n",
    "model = kNNClassifier(mac_metric=\"dtw\")\n",
    "gscv = GridSearchCV(model, param_grid=param_grid, cv=5,\n",
    "                    scoring=\"accuracy\", n_jobs=-1).fit(X_train,y_train)"
   ]
  },
  {
   "cell_type": "code",
   "execution_count": 8,
   "metadata": {
    "ExecuteTime": {
     "end_time": "2021-02-16T21:35:36.756666Z",
     "start_time": "2021-02-16T21:35:36.747159Z"
    }
   },
   "outputs": [
    {
     "name": "stdout",
     "output_type": "stream",
     "text": [
      "Best Parameters:  {'metric_params': {'global_constraint': 'sakoe_chiba', 'sakoe_chiba_radius': 5}, 'n_neighbors': 1}\n",
      "Best Accuracy:  0.62\n"
     ]
    }
   ],
   "source": [
    "#Displaying the best parameters of kNNClassifier within the search grid.\n",
    "\n",
    "best_param = gscv.best_params_\n",
    "best_score = gscv.best_score_\n",
    "print(\"Best Parameters: \", best_param)\n",
    "print(\"Best Accuracy: \", best_score)"
   ]
  },
  {
   "cell_type": "markdown",
   "metadata": {},
   "source": [
    "### Evaluation of tuned model"
   ]
  },
  {
   "cell_type": "markdown",
   "metadata": {},
   "source": [
    "The parameters displayed above are optimal set of parameters for the ``kNNClassifier`` model over ``PickupGestureWiimoteZ`` dataset.  \n",
    "Our next task is then to train the ``kNNClassifier`` model over the ``train`` set with the optimal set of parameters, and evaluate the model over the held-out ``test`` set.\n",
    "***"
   ]
  },
  {
   "cell_type": "code",
   "execution_count": 10,
   "metadata": {
    "ExecuteTime": {
     "end_time": "2021-02-16T21:36:14.267316Z",
     "start_time": "2021-02-16T21:36:01.508215Z"
    }
   },
   "outputs": [],
   "source": [
    "start = time.time()\n",
    "model = kNNClassifier(**best_param,mac_metric=\"dtw\",\n",
    "                           n_jobs=1).fit(X_train,y_train)\n",
    "\n",
    "y_hat = model.predict(X_test)\n",
    "acc = accuracy_score(y_test, y_hat)\n",
    "end = time.time()\n",
    "elapsed = end-start"
   ]
  },
  {
   "cell_type": "code",
   "execution_count": 127,
   "metadata": {
    "ExecuteTime": {
     "end_time": "2021-02-16T22:17:31.758287Z",
     "start_time": "2021-02-16T22:17:31.750514Z"
    }
   },
   "outputs": [
    {
     "name": "stdout",
     "output_type": "stream",
     "text": [
      "Model Accuracy:  0.7\n",
      "Time:  12.75\n"
     ]
    }
   ],
   "source": [
    "print(\"Model Accuracy: \", round(acc, 2))\n",
    "print(\"Time: \", round(elapsed, 2))"
   ]
  },
  {
   "cell_type": "markdown",
   "metadata": {},
   "source": [
    "We achieve an accuracy of 70% by full k-NN-DTW model. The model takes 12.75 $s$ to complete the task."
   ]
  },
  {
   "cell_type": "markdown",
   "metadata": {},
   "source": [
    "## Using MAC/FAC Strategy"
   ]
  },
  {
   "cell_type": "markdown",
   "metadata": {},
   "source": [
    "Here we would look into speeding up the classification of the kNNClassifer model by using the MAC/FAC strategy.  \n",
    "The classification would happen in two stages:\n",
    "- MAC stage: The model retrieves a candidate subset of size ``mac_neighbors`` using the ``mac_metric``.\n",
    "- FAC stage: The model retrieves the closest ``n_neighbors`` from the candidates set using ``DTW``, and consider them for prediction/classification.\n",
    "\n",
    "***"
   ]
  },
  {
   "cell_type": "markdown",
   "metadata": {},
   "source": [
    "### Model tuning"
   ]
  },
  {
   "cell_type": "code",
   "execution_count": 11,
   "metadata": {
    "ExecuteTime": {
     "end_time": "2021-02-16T21:37:05.459320Z",
     "start_time": "2021-02-16T21:37:05.448628Z"
    }
   },
   "outputs": [
    {
     "data": {
      "text/plain": "{'n_neighbors': array([1, 3, 5]), 'mac_neighbors': array([20, 25, 30, 35])}"
     },
     "execution_count": 11,
     "metadata": {},
     "output_type": "execute_result"
    }
   ],
   "source": [
    "param_grid = {\n",
    "    \"n_neighbors\": np.arange(1,6,2),\n",
    "    \"mac_neighbors\": np.arange(20,40,5)\n",
    "}\n",
    "param_grid"
   ]
  },
  {
   "cell_type": "code",
   "execution_count": 15,
   "metadata": {
    "ExecuteTime": {
     "end_time": "2021-02-16T21:37:40.008694Z",
     "start_time": "2021-02-16T21:37:23.075063Z"
    }
   },
   "outputs": [],
   "source": [
    "#We use the the same metric_params as supplied to previous model, for fair analysis.\n",
    "metric_params = {'global_constraint': 'sakoe_chiba', 'sakoe_chiba_radius': 5}\n",
    "\n",
    "model = kNNClassifier(mac_metric=\"euclidean\",\n",
    "                     metric_params=metric_params)\n",
    "gscv_mf = GridSearchCV(model, param_grid=param_grid, cv=5,\n",
    "                    scoring=\"accuracy\", n_jobs=-1).fit(X_train,y_train)"
   ]
  },
  {
   "cell_type": "code",
   "execution_count": 17,
   "metadata": {
    "ExecuteTime": {
     "end_time": "2021-02-16T21:37:50.952297Z",
     "start_time": "2021-02-16T21:37:50.943724Z"
    }
   },
   "outputs": [
    {
     "name": "stdout",
     "output_type": "stream",
     "text": [
      "Best Parameters:  {'mac_neighbors': 20, 'n_neighbors': 1}\n",
      "Best Accuracy:  0.7\n"
     ]
    }
   ],
   "source": [
    "#Displaying the best parameters of kNNClassifier within the search grid.\n",
    "\n",
    "best_param_mf = gscv_mf.best_params_\n",
    "best_score_mf = gscv_mf.best_score_\n",
    "print(\"Best Parameters: \", best_param_mf)\n",
    "print(\"Best Accuracy: \", best_score_mf)"
   ]
  },
  {
   "cell_type": "markdown",
   "metadata": {},
   "source": [
    "### Evaluation of tuned model"
   ]
  },
  {
   "cell_type": "code",
   "execution_count": 46,
   "metadata": {
    "ExecuteTime": {
     "end_time": "2021-02-16T21:39:51.977687Z",
     "start_time": "2021-02-16T21:39:51.045953Z"
    }
   },
   "outputs": [],
   "source": [
    "start = time.time()\n",
    "model_mf = kNNClassifier(**best_param_mf,mac_metric=\"euclidean\",\n",
    "                           metric_params=metric_params, n_jobs=1).fit(X_train,y_train)\n",
    "\n",
    "y_hat_mf = model_mf.predict(X_test)\n",
    "acc_mf = accuracy_score(y_test, y_hat_mf)\n",
    "end = time.time()\n",
    "elapsed_mf = end-start"
   ]
  },
  {
   "cell_type": "code",
   "execution_count": 47,
   "metadata": {
    "ExecuteTime": {
     "end_time": "2021-02-16T21:39:53.583879Z",
     "start_time": "2021-02-16T21:39:53.580710Z"
    }
   },
   "outputs": [
    {
     "name": "stdout",
     "output_type": "stream",
     "text": [
      "Model Accuracy:  0.7\n",
      "Retrieval Time:  0.93\n"
     ]
    }
   ],
   "source": [
    "print(\"Model Accuracy: \", round(acc_mf, 2))\n",
    "print(\"Retrieval Time: \", round(elapsed_mf, 2))"
   ]
  },
  {
   "cell_type": "markdown",
   "metadata": {},
   "source": [
    "kNNClassifer w/ MAC/FAC strategy achieves the **same classification accuracy** of full-kNN-DTW. However, the model is **10 times faster** than the previous one."
   ]
  },
  {
   "cell_type": "markdown",
   "metadata": {},
   "source": [
    "## Comparison"
   ]
  },
  {
   "cell_type": "markdown",
   "metadata": {},
   "source": [
    "Here we do bar-plot that would illustrate the performance of the ``kNNClassifier`` model with **default** parameters against the model with the **tuned** parameters.  \n",
    "The ``matplotlib.pyplot`` is employed for this task.\n",
    "***"
   ]
  },
  {
   "cell_type": "code",
   "execution_count": 126,
   "metadata": {
    "ExecuteTime": {
     "end_time": "2021-02-16T22:14:10.931889Z",
     "start_time": "2021-02-16T22:14:10.699761Z"
    }
   },
   "outputs": [
    {
     "data": {
      "image/png": "[encoded data removed]",
      "text/plain": [
       "<Figure size 864x576 with 2 Axes>"
      ]
     },
     "metadata": {
      "needs_background": "light"
     },
     "output_type": "display_data"
    }
   ],
   "source": [
    "models = [\"Vanilla\", \"MAC/FAC\"]\n",
    "fig = plt.figure(figsize=(12,8))\n",
    "ax = fig.add_subplot(111)\n",
    "ax.bar(models, [acc,acc_mf], color=\"skyblue\", label=\"Accuracy\")\n",
    "ax2 = ax.twinx()\n",
    "ax2.plot(ax.get_xticks(),\n",
    "         [elapsed,elapsed_mf],\n",
    "         color='r',\n",
    "         markersize=12,\n",
    "         marker=\"x\",\n",
    "         mew=2,\n",
    "         linewidth=0, label=\"Time\")\n",
    "fig.legend(loc=(0.65,0.75))\n",
    "ax.set_ylabel('Accuracy (%)')\n",
    "ax2.set_ylabel('Time (s)')\n",
    "plt.show()"
   ]
  }
 ],
 "metadata": {
  "kernelspec": {
   "display_name": "Python 3",
   "language": "python",
   "name": "python3"
  },
  "language_info": {
   "codemirror_mode": {
    "name": "ipython",
    "version": 3
   },
   "file_extension": ".py",
   "mimetype": "text/x-python",
   "name": "python",
   "nbconvert_exporter": "python",
   "pygments_lexer": "ipython3",
   "version": "3.8.5"
  },
  "toc": {
   "base_numbering": 1,
   "nav_menu": {},
   "number_sections": true,
   "sideBar": true,
   "skip_h1_title": false,
   "title_cell": "Table of Contents",
   "title_sidebar": "Contents",
   "toc_cell": false,
   "toc_position": {},
   "toc_section_display": true,
   "toc_window_display": false
  },
  "varInspector": {
   "cols": {
    "lenName": 16,
    "lenType": 16,
    "lenVar": 40
   },
   "kernels_config": {
    "python": {
     "delete_cmd_postfix": "",
     "delete_cmd_prefix": "del ",
     "library": "var_list.py",
     "varRefreshCmd": "print(var_dic_list())"
    },
    "r": {
     "delete_cmd_postfix": ") ",
     "delete_cmd_prefix": "rm(",
     "library": "var_list.r",
     "varRefreshCmd": "cat(var_dic_list()) "
    }
   },
   "types_to_exclude": [
    "module",
    "function",
    "builtin_function_or_method",
    "instance",
    "_Feature"
   ],
   "window_display": false
  }
 },
 "nbformat": 4,
 "nbformat_minor": 4
}
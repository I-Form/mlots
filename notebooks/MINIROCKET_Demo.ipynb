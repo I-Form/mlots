{
 "cells": [
  {
   "cell_type": "markdown",
   "metadata": {},
   "source": [
    "# MINIROCKET\n",
    "\n",
    "Dempster et al. https://arxiv.org/abs/2012.08791"
   ]
  },
  {
   "cell_type": "markdown",
   "metadata": {},
   "source": [
    "## Importing Packages"
   ]
  },
  {
   "cell_type": "code",
   "execution_count": null,
   "metadata": {
    "ExecuteTime": {
     "end_time": "2021-02-15T11:33:59.825311Z",
     "start_time": "2021-02-15T11:33:57.627620Z"
    }
   },
   "outputs": [],
   "source": [
    "from mlots.models import RidgeClassifierCV\n",
    "from mlots.transformation import MINIROCKET\n",
    "from scipy.io import arff\n",
    "import numpy as np\n",
    "import warnings\n",
    "warnings.filterwarnings(\"ignore\")\n",
    "from sklearn.metrics import accuracy_score"
   ]
  },
  {
   "cell_type": "markdown",
   "metadata": {},
   "source": [
    "# Loading Data"
   ]
  },
  {
   "cell_type": "markdown",
   "metadata": {
    "ExecuteTime": {
     "start_time": "2021-02-12T12:36:12.505Z"
    }
   },
   "source": [
    "Here we are loading the ``SmoothSubspace`` dataset.  \n",
    "The datasets are in two ``.arff`` files with pre-defined train and test splits.  \n",
    "The following code reads the two files stores the ``X`` (time-series data) and ``y`` (labels), into their specific train and test sets.\n",
    "***"
   ]
  },
  {
   "cell_type": "code",
   "execution_count": 2,
   "metadata": {
    "ExecuteTime": {
     "end_time": "2021-02-15T11:33:59.979179Z",
     "start_time": "2021-02-15T11:33:59.919183Z"
    }
   },
   "outputs": [
    {
     "data": {
      "text/plain": [
       "((150, 15), (150, 15))"
      ]
     },
     "execution_count": 2,
     "metadata": {},
     "output_type": "execute_result"
    }
   ],
   "source": [
    "name = \"SmoothSubspace\"\n",
    "\n",
    "dataset = arff.loadarff(f'input/{name}/{name}_TRAIN.arff'.format(name=name))[0]\n",
    "X_train = np.array(dataset.tolist(), dtype=np.float32)\n",
    "y_train = X_train[: , -1]\n",
    "X_train = X_train[:, :-1]\n",
    "\n",
    "dataset = arff.loadarff(f'input/{name}/{name}_TEST.arff'.format(name=name))[0]\n",
    "X_test = np.array(dataset.tolist(), dtype=np.float32)\n",
    "y_test = X_test[: , -1]\n",
    "X_test = X_test[:, :-1]\n",
    "\n",
    "#Converting target from bytes to integer\n",
    "y_train = [int.from_bytes(el, \"little\") for el in y_train]\n",
    "y_test = [int.from_bytes(el, \"little\") for el in y_test]\n",
    "X_train.shape, X_test.shape"
   ]
  },
  {
   "cell_type": "markdown",
   "metadata": {},
   "source": [
    "|Set|Sample size|TS length|\n",
    "|:---|:----------|:-------|\n",
    "|Train|150|15|\n",
    "|Test|150|15|"
   ]
  },
  {
   "cell_type": "markdown",
   "metadata": {},
   "source": [
    "# Transforming Data using ``MINIROCKET``"
   ]
  },
  {
   "cell_type": "code",
   "execution_count": 3,
   "metadata": {},
   "outputs": [
    {
     "name": "stdout",
     "output_type": "stream",
     "text": [
      "Shape of X_train and X_test before transformation:  (150, 15) ,  (150, 15)\n"
     ]
    }
   ],
   "source": [
    "print(\"Shape of X_train and X_test before transformation: \",X_train.shape,\", \",X_test.shape)"
   ]
  },
  {
   "cell_type": "code",
   "execution_count": 4,
   "metadata": {
    "ExecuteTime": {
     "end_time": "2021-02-15T11:34:52.383292Z",
     "start_time": "2021-02-15T11:34:52.354544Z"
    }
   },
   "outputs": [],
   "source": [
    "#ts_type denotes if we are using univariate or multivariate version of the algorithm\n",
    "#we use \"univariate\" version as the dataset is a univariate time-series\n",
    "minirocket = MINIROCKET(ts_type=\"univariate\") \n",
    "\n",
    "minirocket.fit(X_train)\n",
    "X_train = minirocket.transform(X_train)\n",
    "X_test = minirocket.transform(X_test)"
   ]
  },
  {
   "cell_type": "code",
   "execution_count": 5,
   "metadata": {
    "ExecuteTime": {
     "end_time": "2021-02-15T11:34:52.807780Z",
     "start_time": "2021-02-15T11:34:52.787892Z"
    }
   },
   "outputs": [
    {
     "name": "stdout",
     "output_type": "stream",
     "text": [
      "Shape of X_train and X_test after transformation:  (150, 9996) ,  (150, 9996)\n"
     ]
    }
   ],
   "source": [
    "print(\"Shape of X_train and X_test after transformation: \",X_train.shape,\", \",X_test.shape)"
   ]
  },
  {
   "cell_type": "markdown",
   "metadata": {},
   "source": [
    "# Classification"
   ]
  },
  {
   "cell_type": "markdown",
   "metadata": {},
   "source": [
    "We can employ ``RidgeClassifierCV`` as our linear model for the classification task.  \n",
    "***"
   ]
  },
  {
   "cell_type": "code",
   "execution_count": 6,
   "metadata": {
    "ExecuteTime": {
     "end_time": "2021-02-15T11:35:44.542367Z",
     "start_time": "2021-02-15T11:35:44.514672Z"
    }
   },
   "outputs": [],
   "source": [
    "model = RidgeClassifierCV(alphas=np.logspace(-3, 3, 10), normalize=True)\n",
    "model = model.fit(X_train, y_train)"
   ]
  },
  {
   "cell_type": "code",
   "execution_count": 7,
   "metadata": {
    "ExecuteTime": {
     "end_time": "2021-02-15T11:35:48.377413Z",
     "start_time": "2021-02-15T11:35:45.929596Z"
    }
   },
   "outputs": [
    {
     "name": "stdout",
     "output_type": "stream",
     "text": [
      "Model accuracy: 0.95%\n"
     ]
    }
   ],
   "source": [
    "acc = model.score(X_test, y_test)\n",
    "print(f\"Model accuracy: {acc:.2f}%\")"
   ]
  }
 ],
 "metadata": {
  "kernelspec": {
   "display_name": "Python 3",
   "language": "python",
   "name": "python3"
  },
  "language_info": {
   "codemirror_mode": {
    "name": "ipython",
    "version": 3
   },
   "file_extension": ".py",
   "mimetype": "text/x-python",
   "name": "python",
   "nbconvert_exporter": "python",
   "pygments_lexer": "ipython3",
   "version": "3.8.5"
  },
  "toc": {
   "base_numbering": 1,
   "nav_menu": {},
   "number_sections": true,
   "sideBar": true,
   "skip_h1_title": false,
   "title_cell": "Table of Contents",
   "title_sidebar": "Contents",
   "toc_cell": false,
   "toc_position": {},
   "toc_section_display": true,
   "toc_window_display": false
  },
  "varInspector": {
   "cols": {
    "lenName": 16,
    "lenType": 16,
    "lenVar": 40
   },
   "kernels_config": {
    "python": {
     "delete_cmd_postfix": "",
     "delete_cmd_prefix": "del ",
     "library": "var_list.py",
     "varRefreshCmd": "print(var_dic_list())"
    },
    "r": {
     "delete_cmd_postfix": ") ",
     "delete_cmd_prefix": "rm(",
     "library": "var_list.r",
     "varRefreshCmd": "cat(var_dic_list()) "
    }
   },
   "types_to_exclude": [
    "module",
    "function",
    "builtin_function_or_method",
    "instance",
    "_Feature"
   ],
   "window_display": false
  }
 },
 "nbformat": 4,
 "nbformat_minor": 4
}

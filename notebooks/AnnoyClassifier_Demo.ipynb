{
 "cells": [
  {
   "cell_type": "markdown",
   "metadata": {},
   "source": [
    "# AnnoyClassifier"
   ]
  },
  {
   "cell_type": "markdown",
   "metadata": {},
   "source": [
    "## Importing Packages"
   ]
  },
  {
   "cell_type": "code",
   "execution_count": 1,
   "metadata": {
    "ExecuteTime": {
     "end_time": "2021-02-15T11:33:59.825311Z",
     "start_time": "2021-02-15T11:33:57.627620Z"
    }
   },
   "outputs": [],
   "source": [
    "from mlots.models import AnnoyClassifier\n",
    "from sklearn.model_selection import GridSearchCV\n",
    "from scipy.io import arff\n",
    "import matplotlib.pyplot as plt\n",
    "import pandas as pd\n",
    "import numpy as np\n",
    "import warnings\n",
    "from sklearn.metrics import accuracy_score\n",
    "warnings.filterwarnings(\"ignore\")\n",
    "import matplotlib\n",
    "%matplotlib inline"
   ]
  },
  {
   "cell_type": "code",
   "execution_count": 2,
   "metadata": {
    "ExecuteTime": {
     "end_time": "2021-02-15T11:33:59.879449Z",
     "start_time": "2021-02-15T11:33:59.876396Z"
    }
   },
   "outputs": [],
   "source": [
    "font = {'size'   : 22}\n",
    "\n",
    "matplotlib.rc('font', **font)"
   ]
  },
  {
   "cell_type": "markdown",
   "metadata": {},
   "source": [
    "## Loading Data"
   ]
  },
  {
   "cell_type": "markdown",
   "metadata": {
    "ExecuteTime": {
     "start_time": "2021-02-12T12:36:12.505Z"
    }
   },
   "source": [
    "Here we are loading the ``SmoothSubspace`` dataset.  \n",
    "The datasets are in two ``.arff`` files with pre-defined train and test splits.  \n",
    "The following code reads the two files stores the ``X`` (time-series data) and ``y`` (labels), into their specific train and test sets.\n",
    "***"
   ]
  },
  {
   "cell_type": "code",
   "execution_count": 3,
   "metadata": {
    "ExecuteTime": {
     "end_time": "2021-02-15T11:33:59.979179Z",
     "start_time": "2021-02-15T11:33:59.919183Z"
    }
   },
   "outputs": [
    {
     "data": {
      "text/plain": "((150, 15), (150, 15))"
     },
     "execution_count": 3,
     "metadata": {},
     "output_type": "execute_result"
    }
   ],
   "source": [
    "name = \"SmoothSubspace\"\n",
    "\n",
    "dataset = arff.loadarff(f'../input/{name}/{name}_TRAIN.arff'.format(name=name))[0]\n",
    "X_train = np.array(dataset.tolist(), dtype=np.float32)\n",
    "y_train = X_train[: , -1]\n",
    "X_train = X_train[:, :-1]\n",
    "\n",
    "dataset = arff.loadarff(f'../input/{name}/{name}_TEST.arff'.format(name=name))[0]\n",
    "X_test = np.array(dataset.tolist(), dtype=np.float32)\n",
    "y_test = X_test[: , -1]\n",
    "X_test = X_test[:, :-1]\n",
    "\n",
    "#Converting target from bytes to integer\n",
    "y_train = [int.from_bytes(el, \"little\") for el in y_train]\n",
    "y_test = [int.from_bytes(el, \"little\") for el in y_test]\n",
    "X_train.shape, X_test.shape"
   ]
  },
  {
   "cell_type": "markdown",
   "metadata": {},
   "source": [
    "|Set|Sample size|TS length|\n",
    "|:---|:----------|:-------|\n",
    "|Train|150|15|\n",
    "|Test|150|15|"
   ]
  },
  {
   "cell_type": "markdown",
   "metadata": {},
   "source": [
    "## Evaluating AnnoyClassifier"
   ]
  },
  {
   "cell_type": "markdown",
   "metadata": {},
   "source": [
    "### Default parameters"
   ]
  },
  {
   "cell_type": "markdown",
   "metadata": {},
   "source": [
    "We would employ ``AnnoyClassifier`` model from the ``mlots`` python package.  \n",
    "First, the model is evaluated with default parameters over the ``SmoothSubspace`` dataset.\n",
    "***"
   ]
  },
  {
   "cell_type": "code",
   "execution_count": 4,
   "metadata": {
    "ExecuteTime": {
     "end_time": "2021-02-15T11:34:52.383292Z",
     "start_time": "2021-02-15T11:34:52.354544Z"
    }
   },
   "outputs": [],
   "source": [
    "model_default = AnnoyClassifier(random_seed=42).fit(X_train,y_train)"
   ]
  },
  {
   "cell_type": "code",
   "execution_count": 5,
   "metadata": {
    "ExecuteTime": {
     "end_time": "2021-02-15T11:34:52.807780Z",
     "start_time": "2021-02-15T11:34:52.787892Z"
    }
   },
   "outputs": [
    {
     "name": "stdout",
     "output_type": "stream",
     "text": [
      "Model accuracy with default parameters:  89.0\n"
     ]
    }
   ],
   "source": [
    "y_hat_default = model_default.predict(X_test)\n",
    "acc_default = accuracy_score(y_test, y_hat_default)\n",
    "print(\"Model accuracy with default parameters: \", round(acc_default, 2)*100)"
   ]
  },
  {
   "cell_type": "markdown",
   "metadata": {},
   "source": [
    "The accuracy of the model is **87\\%**, which is already a good classification accuracy. However, lets see if we can squeeze in more effective performance. "
   ]
  },
  {
   "cell_type": "markdown",
   "metadata": {},
   "source": [
    "### Model tuning"
   ]
  },
  {
   "cell_type": "markdown",
   "metadata": {},
   "source": [
    "``AnnoyClassifier`` model allows us to work with a more complex distance measure like ``DTW`` in a ``MAC/FAC`` strategy.  \n",
    "Here, we would use ``GridSearchCV`` algorithm from the ``sklearn`` package to find the best set of parameters of the model over the dataset.  \n",
    "The model tuning would be done **only** over the ``train`` set of the dataset.\n",
    "***"
   ]
  },
  {
   "cell_type": "code",
   "execution_count": 6,
   "metadata": {
    "ExecuteTime": {
     "end_time": "2021-02-15T11:35:00.692919Z",
     "start_time": "2021-02-15T11:35:00.685700Z"
    }
   },
   "outputs": [
    {
     "data": {
      "text/plain": "[{'global_constraint': 'sakoe_chiba', 'sakoe_chiba_radius': 1},\n {'global_constraint': 'sakoe_chiba', 'sakoe_chiba_radius': 3},\n {'global_constraint': 'sakoe_chiba', 'sakoe_chiba_radius': 5}]"
     },
     "execution_count": 6,
     "metadata": {},
     "output_type": "execute_result"
    }
   ],
   "source": [
    "#Setting up the warping window grid of the DTW measure\n",
    "\n",
    "dtw_params = []\n",
    "for w_win in range(1,6,2):\n",
    "    dtw_params.append(\n",
    "    {\n",
    "        \"global_constraint\": \"sakoe_chiba\",\n",
    "        \"sakoe_chiba_radius\": w_win\n",
    "    }\n",
    "    )\n",
    "dtw_params"
   ]
  },
  {
   "cell_type": "code",
   "execution_count": 7,
   "metadata": {
    "ExecuteTime": {
     "end_time": "2021-02-15T11:35:01.956773Z",
     "start_time": "2021-02-15T11:35:01.949811Z"
    }
   },
   "outputs": [
    {
     "data": {
      "text/plain": "{'n_neighbors': array([ 1,  3,  5,  7,  9, 11]),\n 'mac_neighbors': array([15, 20, 25, 30, 35, 40, 45]),\n 'metric_params': [{'global_constraint': 'sakoe_chiba',\n   'sakoe_chiba_radius': 1},\n  {'global_constraint': 'sakoe_chiba', 'sakoe_chiba_radius': 3},\n  {'global_constraint': 'sakoe_chiba', 'sakoe_chiba_radius': 5}]}"
     },
     "execution_count": 7,
     "metadata": {},
     "output_type": "execute_result"
    }
   ],
   "source": [
    "#Setting up the param grid for the AnnoyClassifier model with the DTW params\n",
    "\n",
    "param_grid = {\n",
    "    \"n_neighbors\": np.arange(1,12,2),\n",
    "    \"mac_neighbors\": np.arange(15,50,5),\n",
    "    \"metric_params\" : dtw_params\n",
    "}\n",
    "param_grid"
   ]
  },
  {
   "cell_type": "code",
   "execution_count": 8,
   "metadata": {
    "ExecuteTime": {
     "end_time": "2021-02-15T11:35:13.940028Z",
     "start_time": "2021-02-15T11:35:03.219636Z"
    }
   },
   "outputs": [],
   "source": [
    "#Executing the GridSearchCv over the AnnoyClassifier model with the supplied param_grid.\n",
    "\n",
    "model = AnnoyClassifier(random_seed=42)\n",
    "gscv = GridSearchCV(model, param_grid=param_grid, cv=5,\n",
    "                    scoring=\"accuracy\", n_jobs=-1).fit(X_train,y_train)"
   ]
  },
  {
   "cell_type": "code",
   "execution_count": 9,
   "metadata": {
    "ExecuteTime": {
     "end_time": "2021-02-15T11:35:14.421706Z",
     "start_time": "2021-02-15T11:35:14.416460Z"
    }
   },
   "outputs": [
    {
     "name": "stdout",
     "output_type": "stream",
     "text": [
      "Best Parameters:  {'mac_neighbors': 25, 'metric_params': {'global_constraint': 'sakoe_chiba', 'sakoe_chiba_radius': 1}, 'n_neighbors': 7}\n",
      "Best Accuracy:  0.9933333333333334\n"
     ]
    }
   ],
   "source": [
    "#Displaying the best parameters of AnnoyClassifier within the search grid.\n",
    "\n",
    "best_param = gscv.best_params_\n",
    "best_score = gscv.best_score_\n",
    "print(\"Best Parameters: \", best_param)\n",
    "print(\"Best Accuracy: \", best_score)"
   ]
  },
  {
   "cell_type": "markdown",
   "metadata": {},
   "source": [
    "### Evaluation of tuned model"
   ]
  },
  {
   "cell_type": "markdown",
   "metadata": {},
   "source": [
    "The parameters displayed above are optimal set of parameters for the ``AnnoyClassifier`` model over ``SmoothSubspace`` dataset.  \n",
    "Our next task is then to train the ``AnnoyClassifier`` model over the ``train`` set with the optimal set of parameters, and evaluate the model over the held-out ``test`` set.\n",
    "***"
   ]
  },
  {
   "cell_type": "code",
   "execution_count": 10,
   "metadata": {
    "ExecuteTime": {
     "end_time": "2021-02-15T11:35:44.542367Z",
     "start_time": "2021-02-15T11:35:44.514672Z"
    }
   },
   "outputs": [],
   "source": [
    "model_tuned = AnnoyClassifier(**best_param,random_seed=42).fit(X_train,y_train)"
   ]
  },
  {
   "cell_type": "code",
   "execution_count": 11,
   "metadata": {
    "ExecuteTime": {
     "end_time": "2021-02-15T11:35:48.377413Z",
     "start_time": "2021-02-15T11:35:45.929596Z"
    }
   },
   "outputs": [
    {
     "name": "stdout",
     "output_type": "stream",
     "text": [
      "Model accuracy with tuned parameters:  0.98\n"
     ]
    }
   ],
   "source": [
    "y_hat_tuned = model_tuned.predict(X_test)\n",
    "acc_tuned = accuracy_score(y_test, y_hat_tuned)\n",
    "print(\"Model accuracy with tuned parameters: \", round(acc_tuned, 2))"
   ]
  },
  {
   "cell_type": "markdown",
   "metadata": {},
   "source": [
    "By tuning the parameters of the model we increased the accuracy of the model from ~$87$-$90\\%$ to $98\\%$."
   ]
  },
  {
   "cell_type": "markdown",
   "metadata": {},
   "source": [
    "## Comparison"
   ]
  },
  {
   "cell_type": "markdown",
   "metadata": {},
   "source": [
    "Here we do bar-plot that would illustrate the performance of the ``AnnoyClassifier`` model with **default** parameters against the model with the **tuned** parameters.  \n",
    "The ``matplotlib.pyplot`` is employed for this task.\n",
    "***"
   ]
  },
  {
   "cell_type": "code",
   "execution_count": 12,
   "metadata": {
    "ExecuteTime": {
     "end_time": "2021-02-15T11:36:34.917264Z",
     "start_time": "2021-02-15T11:36:34.597583Z"
    }
   },
   "outputs": [
    {
     "data": {
      "text/plain": "<Figure size 864x576 with 1 Axes>",
      "image/png": "[encoded data removed]"
     },
     "metadata": {
      "needs_background": "light"
     },
     "output_type": "display_data"
    }
   ],
   "source": [
    "acc =  [acc_default*100,acc_tuned*100]\n",
    "models = [\"AnnoyClassifier-Default\", \"AnnoyClassifier-Tuned\"]\n",
    "\n",
    "df = pd.DataFrame({\"models\": models, \"Accuracy\":acc})\n",
    "\n",
    "fig = plt.figure()\n",
    "ax = df['Accuracy'].plot(kind=\"bar\", figsize=(12, 8), alpha=0.7,\n",
    "                 color=[\n",
    "                     'skyblue'\n",
    "                 ], label = \"Accuracy\")\n",
    "\n",
    "ax.set_xticklabels(df['models'])\n",
    "ax.set_ylabel(\"Accuracy (%)\")\n",
    "\n",
    "ax.set_ylim(0,100)\n",
    "\n",
    "plt.setp(ax.xaxis.get_majorticklabels(), rotation=0)\n",
    "for i,a in enumerate(acc):\n",
    "    ax.text(i-0.2,a-5,str(round(a,3))+\"%\")\n",
    "plt.text\n",
    "plt.title(\"Model Performance\")\n",
    "plt.show()"
   ]
  },
  {
   "cell_type": "code",
   "execution_count": null,
   "metadata": {},
   "outputs": [],
   "source": []
  }
 ],
 "metadata": {
  "kernelspec": {
   "display_name": "Python 3",
   "language": "python",
   "name": "python3"
  },
  "language_info": {
   "codemirror_mode": {
    "name": "ipython",
    "version": 3
   },
   "file_extension": ".py",
   "mimetype": "text/x-python",
   "name": "python",
   "nbconvert_exporter": "python",
   "pygments_lexer": "ipython3",
   "version": "3.8.5"
  },
  "toc": {
   "base_numbering": 1,
   "nav_menu": {},
   "number_sections": true,
   "sideBar": true,
   "skip_h1_title": false,
   "title_cell": "Table of Contents",
   "title_sidebar": "Contents",
   "toc_cell": false,
   "toc_position": {},
   "toc_section_display": true,
   "toc_window_display": false
  },
  "varInspector": {
   "cols": {
    "lenName": 16,
    "lenType": 16,
    "lenVar": 40
   },
   "kernels_config": {
    "python": {
     "delete_cmd_postfix": "",
     "delete_cmd_prefix": "del ",
     "library": "var_list.py",
     "varRefreshCmd": "print(var_dic_list())"
    },
    "r": {
     "delete_cmd_postfix": ") ",
     "delete_cmd_prefix": "rm(",
     "library": "var_list.r",
     "varRefreshCmd": "cat(var_dic_list()) "
    }
   },
   "types_to_exclude": [
    "module",
    "function",
    "builtin_function_or_method",
    "instance",
    "_Feature"
   ],
   "window_display": false
  }
 },
 "nbformat": 4,
 "nbformat_minor": 4
}